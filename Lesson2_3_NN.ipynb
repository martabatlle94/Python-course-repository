{
 "cells": [
  {
   "cell_type": "code",
   "execution_count": 2,
   "metadata": {},
   "outputs": [
    {
     "name": "stdout",
     "output_type": "stream",
     "text": [
      "Requirement already satisfied: tensorflow==2.0.0-alpha0 in c:\\users\\marta\\anaconda35\\lib\\site-packages (2.0.0a0)\n",
      "Requirement already satisfied: tb-nightly<1.14.0a20190302,>=1.14.0a20190301 in c:\\users\\marta\\anaconda35\\lib\\site-packages (from tensorflow==2.0.0-alpha0) (1.14.0a20190301)\n",
      "Requirement already satisfied: astor>=0.6.0 in c:\\users\\marta\\anaconda35\\lib\\site-packages (from tensorflow==2.0.0-alpha0) (0.8.0)\n",
      "Requirement already satisfied: google-pasta>=0.1.2 in c:\\users\\marta\\anaconda35\\lib\\site-packages (from tensorflow==2.0.0-alpha0) (0.1.7)\n",
      "Requirement already satisfied: keras-applications>=1.0.6 in c:\\users\\marta\\anaconda35\\lib\\site-packages (from tensorflow==2.0.0-alpha0) (1.0.8)\n",
      "Requirement already satisfied: protobuf>=3.6.1 in c:\\users\\marta\\anaconda35\\lib\\site-packages (from tensorflow==2.0.0-alpha0) (3.8.0)\n",
      "Requirement already satisfied: numpy<2.0,>=1.14.5 in c:\\users\\marta\\anaconda35\\lib\\site-packages (from tensorflow==2.0.0-alpha0) (1.15.1)\n",
      "Requirement already satisfied: wheel>=0.26 in c:\\users\\marta\\anaconda35\\lib\\site-packages (from tensorflow==2.0.0-alpha0) (0.31.1)\n",
      "Requirement already satisfied: tf-estimator-nightly<1.14.0.dev2019030116,>=1.14.0.dev2019030115 in c:\\users\\marta\\anaconda35\\lib\\site-packages (from tensorflow==2.0.0-alpha0) (1.14.0.dev2019030115)\n",
      "Requirement already satisfied: keras-preprocessing>=1.0.5 in c:\\users\\marta\\anaconda35\\lib\\site-packages (from tensorflow==2.0.0-alpha0) (1.1.0)\n",
      "Requirement already satisfied: absl-py>=0.7.0 in c:\\users\\marta\\anaconda35\\lib\\site-packages (from tensorflow==2.0.0-alpha0) (0.7.1)\n",
      "Requirement already satisfied: grpcio>=1.8.6 in c:\\users\\marta\\anaconda35\\lib\\site-packages (from tensorflow==2.0.0-alpha0) (1.21.1)\n",
      "Requirement already satisfied: termcolor>=1.1.0 in c:\\users\\marta\\anaconda35\\lib\\site-packages (from tensorflow==2.0.0-alpha0) (1.1.0)\n",
      "Requirement already satisfied: gast>=0.2.0 in c:\\users\\marta\\anaconda35\\lib\\site-packages (from tensorflow==2.0.0-alpha0) (0.2.2)\n",
      "Requirement already satisfied: six>=1.10.0 in c:\\users\\marta\\anaconda35\\lib\\site-packages (from tensorflow==2.0.0-alpha0) (1.11.0)\n",
      "Requirement already satisfied: werkzeug>=0.11.15 in c:\\users\\marta\\anaconda35\\lib\\site-packages (from tb-nightly<1.14.0a20190302,>=1.14.0a20190301->tensorflow==2.0.0-alpha0) (0.14.1)\n",
      "Requirement already satisfied: markdown>=2.6.8 in c:\\users\\marta\\anaconda35\\lib\\site-packages (from tb-nightly<1.14.0a20190302,>=1.14.0a20190301->tensorflow==2.0.0-alpha0) (3.1.1)\n",
      "Requirement already satisfied: h5py in c:\\users\\marta\\anaconda35\\lib\\site-packages (from keras-applications>=1.0.6->tensorflow==2.0.0-alpha0) (2.8.0)\n",
      "Requirement already satisfied: setuptools in c:\\users\\marta\\anaconda35\\lib\\site-packages (from protobuf>=3.6.1->tensorflow==2.0.0-alpha0) (40.2.0)\n"
     ]
    },
    {
     "name": "stderr",
     "output_type": "stream",
     "text": [
      "You are using pip version 10.0.1, however version 19.1.1 is available.\n",
      "You should consider upgrading via the 'python -m pip install --upgrade pip' command.\n"
     ]
    }
   ],
   "source": [
    "! pip install tensorflow==2.0.0-alpha0"
   ]
  },
  {
   "cell_type": "code",
   "execution_count": 1,
   "metadata": {},
   "outputs": [
    {
     "name": "stdout",
     "output_type": "stream",
     "text": [
      "Collecting pyhamcrest\n",
      "  Downloading https://files.pythonhosted.org/packages/9a/d5/d37fd731b7d0e91afcc84577edeccf4638b4f9b82f5ffe2f8b62e2ddc609/PyHamcrest-1.9.0-py2.py3-none-any.whl (52kB)\n",
      "Requirement already satisfied: setuptools in c:\\users\\marta\\anaconda35\\lib\\site-packages (from pyhamcrest) (40.2.0)\n",
      "Requirement already satisfied: six in c:\\users\\marta\\anaconda35\\lib\\site-packages (from pyhamcrest) (1.11.0)\n",
      "Installing collected packages: pyhamcrest\n",
      "Successfully installed pyhamcrest-1.9.0\n"
     ]
    },
    {
     "name": "stderr",
     "output_type": "stream",
     "text": [
      "You are using pip version 10.0.1, however version 19.1.1 is available.\n",
      "You should consider upgrading via the 'python -m pip install --upgrade pip' command.\n"
     ]
    }
   ],
   "source": [
    "!pip install pyhamcrest"
   ]
  },
  {
   "cell_type": "code",
   "execution_count": 1,
   "metadata": {},
   "outputs": [],
   "source": [
    "import numpy as np\n",
    "import tensorflow as tf"
   ]
  },
  {
   "cell_type": "code",
   "execution_count": 2,
   "metadata": {},
   "outputs": [
    {
     "name": "stdout",
     "output_type": "stream",
     "text": [
      "Downloading data from https://storage.googleapis.com/tensorflow/tf-keras-datasets/mnist.npz\n",
      "11493376/11490434 [==============================] - 1s 0us/step\n"
     ]
    }
   ],
   "source": [
    "mnist = tf.keras.datasets.mnist\n",
    "\n",
    "(x_train, y_train), (x_test, y_test) = mnist.load_data()\n",
    "x_train, x_test = x_train / 255.0, x_test / 255.0"
   ]
  },
  {
   "cell_type": "code",
   "execution_count": 3,
   "metadata": {},
   "outputs": [],
   "source": [
    "model = tf.keras.models.Sequential([\n",
    "  tf.keras.layers.Flatten(input_shape=(28, 28)),\n",
    "  tf.keras.layers.Dense(128, activation='relu'),\n",
    "  tf.keras.layers.Dropout(0.2),\n",
    "  tf.keras.layers.Dense(10, activation='softmax')\n",
    "])\n",
    "\n",
    "model.compile(optimizer='adam',\n",
    "              loss='sparse_categorical_crossentropy',\n",
    "              metrics=['accuracy'])\n",
    "\n",
    "\n",
    "#Necesitamos que la derivada sea 1 (como con relu) para que el número de capas de la NN no afecte al resultado\n",
    "#Para hacer una NN lo primero es que compile, luego que haga el backpropagation, luego que haga overfit (si no lo hace en un subdataset no es capaz de aprender nada)\n",
    "#El Dropout es una técnica para reducir el overfit\n",
    "#Softmax : más cercano a 1 significa que la NN está muy segura de esa predicción (o poco si tira a 0)\n",
    "#Adam se usa mucho y uno de los motivos es que el learning rate no afectará tanto a la NN"
   ]
  },
  {
   "cell_type": "code",
   "execution_count": null,
   "metadata": {},
   "outputs": [],
   "source": [
    "#Layer convolucional: tf.keras.layers.Conv2D y elegir número de kernels (en primer lugar arriba)\n",
    "#Un filtro de convolución es una matriz nxn (e.g. 3x3) y va pasando por toda la matriz de datos multiplicándolas\n",
    "#Esto lo puede hacer x veces = número de kernels\n",
    "#Los filtros de convolución se hacen para reducir la dimensionalidad de la imagen \n",
    "#Por ejemplo, la técnica de pooling coge los elementos del vector que superan un threshold y crea una nueva imagen, quedándose así con una nueva imagen más reducida pero con elementos importantes\n",
    "#Cada pixel es una neurona, así que tenemos que hacer la NN convolucional hasta que tengamos un número adecuado de neuronas (unas 1000) y luego entrenamos una NN normal\n",
    "#El filtro de convolución es importante cuando queremos que la distancia de la x y la y se tenga en cuenta (representar las propiedades espaciales)\n"
   ]
  },
  {
   "cell_type": "code",
   "execution_count": null,
   "metadata": {},
   "outputs": [],
   "source": [
    "#Recurrent NN se usan cuando importa el orden de los datos (e.g. para predecir en el tiempo)"
   ]
  },
  {
   "cell_type": "code",
   "execution_count": 4,
   "metadata": {},
   "outputs": [
    {
     "name": "stdout",
     "output_type": "stream",
     "text": [
      "Epoch 1/5\n",
      "60000/60000 [==============================] - 5s 79us/sample - loss: 0.2972 - accuracy: 0.9122\n",
      "Epoch 2/5\n",
      "60000/60000 [==============================] - 3s 57us/sample - loss: 0.1395 - accuracy: 0.9583\n",
      "Epoch 3/5\n",
      "60000/60000 [==============================] - 5s 76us/sample - loss: 0.1049 - accuracy: 0.9685\n",
      "Epoch 4/5\n",
      "60000/60000 [==============================] - 5s 76us/sample - loss: 0.0866 - accuracy: 0.9731\n",
      "Epoch 5/5\n",
      "60000/60000 [==============================] - 4s 74us/sample - loss: 0.0752 - accuracy: 0.9770\n",
      "10000/10000 [==============================] - 0s 27us/sample - loss: 0.0742 - accuracy: 0.9774\n"
     ]
    },
    {
     "data": {
      "text/plain": [
       "[0.07422570660612546, 0.9774]"
      ]
     },
     "execution_count": 4,
     "metadata": {},
     "output_type": "execute_result"
    }
   ],
   "source": [
    "model.fit(x_train, y_train, epochs=5)\n",
    "\n",
    "model.evaluate(x_test, y_test)\n",
    "\n",
    "#Epochs : cuantas veces el modelo ve todo el dataset"
   ]
  },
  {
   "cell_type": "code",
   "execution_count": 49,
   "metadata": {},
   "outputs": [],
   "source": [
    "import matplotlib.pyplot as plt\n",
    "from matplotlib.pyplot import imshow\n",
    "import numpy as np\n",
    "import PIL"
   ]
  },
  {
   "cell_type": "code",
   "execution_count": 56,
   "metadata": {
    "scrolled": false
   },
   "outputs": [
    {
     "name": "stdout",
     "output_type": "stream",
     "text": [
      "True 7 \n",
      "Predicted 7\n",
      "\n"
     ]
    },
    {
     "data": {
      "image/png": "[encoded data removed]",
      "text/plain": [
       "<Figure size 432x288 with 1 Axes>"
      ]
     },
     "metadata": {
      "needs_background": "light"
     },
     "output_type": "display_data"
    },
    {
     "name": "stdout",
     "output_type": "stream",
     "text": [
      "True 2 \n",
      "Predicted 2\n",
      "\n"
     ]
    },
    {
     "data": {
      "image/png": "[encoded data removed]",
      "text/plain": [
       "<Figure size 432x288 with 1 Axes>"
      ]
     },
     "metadata": {
      "needs_background": "light"
     },
     "output_type": "display_data"
    },
    {
     "name": "stdout",
     "output_type": "stream",
     "text": [
      "True 1 \n",
      "Predicted 1\n",
      "\n"
     ]
    },
    {
     "data": {
      "image/png": "[encoded data removed]",
      "text/plain": [
       "<Figure size 432x288 with 1 Axes>"
      ]
     },
     "metadata": {
      "needs_background": "light"
     },
     "output_type": "display_data"
    },
    {
     "name": "stdout",
     "output_type": "stream",
     "text": [
      "True 0 \n",
      "Predicted 0\n",
      "\n"
     ]
    },
    {
     "data": {
      "image/png": "[encoded data removed]",
      "text/plain": [
       "<Figure size 432x288 with 1 Axes>"
      ]
     },
     "metadata": {
      "needs_background": "light"
     },
     "output_type": "display_data"
    },
    {
     "name": "stdout",
     "output_type": "stream",
     "text": [
      "True 4 \n",
      "Predicted 4\n",
      "\n"
     ]
    },
    {
     "data": {
      "image/png": "[encoded data removed]",
      "text/plain": [
       "<Figure size 432x288 with 1 Axes>"
      ]
     },
     "metadata": {
      "needs_background": "light"
     },
     "output_type": "display_data"
    }
   ],
   "source": [
    "N = 5\n",
    "\n",
    "for i in range(N):\n",
    "    data_orig = (x_test[i]*255).astype(np.uint8)\n",
    "    im = PIL.Image.fromarray(data_orig)\n",
    "    print(f\"True {y_test[i]} \\nPredicted {np.argmax(model.predict(np.expand_dims(x_test[i],axis=0)))}\\n\")\n",
    "    imshow(im)\n",
    "    plt.show()\n",
    "    \n",
    "\n",
    "#Puede ser que todas las predicciones que hace la NN no sean muy seguras, entonces podemos poner un threshold en el softmax de, por ejemplo , 0,6, así todas las predicciones que haga serán bastante seguras (aumentaremos la especificidad)"
   ]
  },
  {
   "cell_type": "code",
   "execution_count": 57,
   "metadata": {},
   "outputs": [],
   "source": [
    "from xgboost import XGBClassifier"
   ]
  },
  {
   "cell_type": "code",
   "execution_count": 67,
   "metadata": {},
   "outputs": [],
   "source": [
    "model = XGBClassifier(\n",
    "    n_estimators=50,\n",
    "    learning_rate=0.2,\n",
    "    max_depth=4)"
   ]
  },
  {
   "cell_type": "code",
   "execution_count": 68,
   "metadata": {},
   "outputs": [
    {
     "data": {
      "text/plain": [
       "XGBClassifier(base_score=0.5, booster='gbtree', colsample_bylevel=1,\n",
       "       colsample_bynode=1, colsample_bytree=1, gamma=0, learning_rate=0.2,\n",
       "       max_delta_step=0, max_depth=4, min_child_weight=1, missing=None,\n",
       "       n_estimators=50, n_jobs=1, nthread=None, objective='multi:softprob',\n",
       "       random_state=0, reg_alpha=0, reg_lambda=1, scale_pos_weight=1,\n",
       "       seed=None, silent=None, subsample=1, verbosity=1)"
      ]
     },
     "execution_count": 68,
     "metadata": {},
     "output_type": "execute_result"
    }
   ],
   "source": [
    "model.fit(x_train.reshape(60000,-1), y_train)\n",
    "\n",
    "#Tenemos que hacer un reshape porque teníamos los datos en matrices (para la NN) y necesitamos tablas para el XGB"
   ]
  },
  {
   "cell_type": "code",
   "execution_count": 69,
   "metadata": {},
   "outputs": [
    {
     "data": {
      "text/plain": [
       "(0.9689, 0.9544)"
      ]
     },
     "execution_count": 69,
     "metadata": {},
     "output_type": "execute_result"
    }
   ],
   "source": [
    "model.score(x_train.reshape(60000,-1),y_train),model.score(x_test.reshape(10000,-1),y_test)"
   ]
  }
 ],
 "metadata": {
  "kernelspec": {
   "display_name": "Python 3",
   "language": "python",
   "name": "python3"
  },
  "language_info": {
   "codemirror_mode": {
    "name": "ipython",
    "version": 3
   },
   "file_extension": ".py",
   "mimetype": "text/x-python",
   "name": "python",
   "nbconvert_exporter": "python",
   "pygments_lexer": "ipython3",
   "version": "3.7.0"
  }
 },
 "nbformat": 4,
 "nbformat_minor": 2
}
